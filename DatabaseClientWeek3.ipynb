{
 "cells": [
  {
   "cell_type": "code",
   "execution_count": 19,
   "metadata": {},
   "outputs": [],
   "source": [
    "import mysql.connector as connector"
   ]
  },
  {
   "cell_type": "code",
   "execution_count": 20,
   "metadata": {},
   "outputs": [],
   "source": [
    "connection = connector.connect(user = \"root\", password = \"abhi123456\",db = \"littlelemondb\")"
   ]
  },
  {
   "cell_type": "code",
   "execution_count": 21,
   "metadata": {},
   "outputs": [],
   "source": [
    "cursor = connection.cursor()"
   ]
  },
  {
   "cell_type": "code",
   "execution_count": 24,
   "metadata": {},
   "outputs": [],
   "source": [
    "show_tables_query = \"SHOW tables\" \n",
    "results = cursor.fetchall()"
   ]
  },
  {
   "cell_type": "code",
   "execution_count": 25,
   "metadata": {},
   "outputs": [
    {
     "name": "stdout",
     "output_type": "stream",
     "text": [
      "[('bookings',), ('customer',), ('delivery',), ('employees',), ('menuitems',), ('menus',), ('orders',), ('ordersview',)]\n"
     ]
    }
   ],
   "source": [
    "print(results)"
   ]
  },
  {
   "cell_type": "code",
   "execution_count": 26,
   "metadata": {},
   "outputs": [
    {
     "name": "stdout",
     "output_type": "stream",
     "text": [
      "('bookings',)\n",
      "('customer',)\n",
      "('delivery',)\n",
      "('employees',)\n",
      "('menuitems',)\n",
      "('menus',)\n",
      "('orders',)\n",
      "('ordersview',)\n"
     ]
    }
   ],
   "source": [
    "# Print the results\n",
    "for row in results:\n",
    "    print(row)"
   ]
  },
  {
   "cell_type": "code",
   "execution_count": 32,
   "metadata": {},
   "outputs": [],
   "source": [
    "creating_joins = \"\"\"\n",
    "SELECT customer.FullName, \n",
    "customer.ContactNumber, \n",
    "orders.TotalCost\n",
    "FROM customer\n",
    "INNER JOIN orders ON customer.customerID = orders.customerID\n",
    "WHERE orders.TotalCost > 60;\n",
    "\n",
    "\"\"\""
   ]
  },
  {
   "cell_type": "code",
   "execution_count": 33,
   "metadata": {},
   "outputs": [],
   "source": [
    "cursor.execute(creating_joins)\n",
    "results =cursor.fetchall()\n"
   ]
  },
  {
   "cell_type": "code",
   "execution_count": 34,
   "metadata": {},
   "outputs": [
    {
     "name": "stdout",
     "output_type": "stream",
     "text": [
      "('Alice Johnson', 55567, 181)\n",
      "('Eva Brown', 44444, 121)\n",
      "('Daniel White', 99944, 200)\n",
      "('John Doe', 1233, 175)\n",
      "('Grace Moore', 11144, 160)\n",
      "('Olivia Miller', 777999, 153)\n",
      "('Jane Smith', 98733, 166)\n",
      "('Bob Williams', 88855, 186)\n",
      "('Charlie Davis', 2244, 160)\n",
      "('Liam Taylor', 444888, 210)\n"
     ]
    }
   ],
   "source": [
    "# Print the results\n",
    "for row in results:\n",
    "    print(row)"
   ]
  }
 ],
 "metadata": {
  "kernelspec": {
   "display_name": "metacapstoneproject",
   "language": "python",
   "name": "python3"
  },
  "language_info": {
   "codemirror_mode": {
    "name": "ipython",
    "version": 3
   },
   "file_extension": ".py",
   "mimetype": "text/x-python",
   "name": "python",
   "nbconvert_exporter": "python",
   "pygments_lexer": "ipython3",
   "version": "3.9.7"
  }
 },
 "nbformat": 4,
 "nbformat_minor": 2
}
